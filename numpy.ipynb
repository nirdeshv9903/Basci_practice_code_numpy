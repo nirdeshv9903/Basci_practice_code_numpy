{
 "cells": [
  {
   "cell_type": "code",
   "execution_count": 124,
   "id": "260f59d2",
   "metadata": {},
   "outputs": [],
   "source": [
    "import numpy as np"
   ]
  },
  {
   "cell_type": "code",
   "execution_count": 125,
   "id": "074a347b",
   "metadata": {},
   "outputs": [],
   "source": [
    "num = [[1,2,3],[4,5,6]]"
   ]
  },
  {
   "cell_type": "code",
   "execution_count": 126,
   "id": "77961b8d",
   "metadata": {},
   "outputs": [],
   "source": [
    "num = np.array(num)"
   ]
  },
  {
   "cell_type": "code",
   "execution_count": 127,
   "id": "e893b7bb",
   "metadata": {},
   "outputs": [
    {
     "data": {
      "text/plain": [
       "array([[1, 2, 3],\n",
       "       [4, 5, 6]])"
      ]
     },
     "execution_count": 127,
     "metadata": {},
     "output_type": "execute_result"
    }
   ],
   "source": [
    "num"
   ]
  },
  {
   "cell_type": "code",
   "execution_count": 128,
   "id": "098cb97e",
   "metadata": {},
   "outputs": [
    {
     "data": {
      "text/plain": [
       "(2, 3)"
      ]
     },
     "execution_count": 128,
     "metadata": {},
     "output_type": "execute_result"
    }
   ],
   "source": [
    "num.shape"
   ]
  },
  {
   "cell_type": "code",
   "execution_count": 129,
   "id": "03c0c6f8",
   "metadata": {},
   "outputs": [],
   "source": [
    "# zeros, ones, eye, diag, randint, rand, randn"
   ]
  },
  {
   "cell_type": "code",
   "execution_count": 130,
   "id": "3b41527c",
   "metadata": {},
   "outputs": [],
   "source": [
    "arr = np.zeros(5)"
   ]
  },
  {
   "cell_type": "code",
   "execution_count": 131,
   "id": "ebcedf8c",
   "metadata": {},
   "outputs": [
    {
     "data": {
      "text/plain": [
       "array([0., 0., 0., 0., 0.])"
      ]
     },
     "execution_count": 131,
     "metadata": {},
     "output_type": "execute_result"
    }
   ],
   "source": [
    "arr"
   ]
  },
  {
   "cell_type": "code",
   "execution_count": 132,
   "id": "1137e011",
   "metadata": {},
   "outputs": [],
   "source": [
    "arr = np.ones(6)# it bring the array with the number one "
   ]
  },
  {
   "cell_type": "code",
   "execution_count": 133,
   "id": "ddb6fe49",
   "metadata": {},
   "outputs": [
    {
     "data": {
      "text/plain": [
       "array([1., 1., 1., 1., 1., 1.])"
      ]
     },
     "execution_count": 133,
     "metadata": {},
     "output_type": "execute_result"
    }
   ],
   "source": [
    "arr "
   ]
  },
  {
   "cell_type": "code",
   "execution_count": 134,
   "id": "fa1b378b",
   "metadata": {},
   "outputs": [],
   "source": [
    "arr = np.zeros((2,4)) # it bring the 2x4 matrix"
   ]
  },
  {
   "cell_type": "code",
   "execution_count": 135,
   "id": "ffd0e517",
   "metadata": {},
   "outputs": [
    {
     "data": {
      "text/plain": [
       "array([[0., 0., 0., 0.],\n",
       "       [0., 0., 0., 0.]])"
      ]
     },
     "execution_count": 135,
     "metadata": {},
     "output_type": "execute_result"
    }
   ],
   "source": [
    "arr"
   ]
  },
  {
   "cell_type": "code",
   "execution_count": 136,
   "id": "3c863f49",
   "metadata": {},
   "outputs": [],
   "source": [
    "arr = np.eye(3) # it bring the digonal 1 and other zero."
   ]
  },
  {
   "cell_type": "code",
   "execution_count": 137,
   "id": "faf1048e",
   "metadata": {},
   "outputs": [
    {
     "data": {
      "text/plain": [
       "array([[1., 0., 0.],\n",
       "       [0., 1., 0.],\n",
       "       [0., 0., 1.]])"
      ]
     },
     "execution_count": 137,
     "metadata": {},
     "output_type": "execute_result"
    }
   ],
   "source": [
    "arr"
   ]
  },
  {
   "cell_type": "code",
   "execution_count": 138,
   "id": "76d805e7",
   "metadata": {},
   "outputs": [],
   "source": [
    "arr = np.eye(3,4) # first parmeter is three that is row and second is 4 which is coulmn"
   ]
  },
  {
   "cell_type": "code",
   "execution_count": 139,
   "id": "1a74e8be",
   "metadata": {},
   "outputs": [
    {
     "data": {
      "text/plain": [
       "array([[1., 0., 0., 0.],\n",
       "       [0., 1., 0., 0.],\n",
       "       [0., 0., 1., 0.]])"
      ]
     },
     "execution_count": 139,
     "metadata": {},
     "output_type": "execute_result"
    }
   ],
   "source": [
    "arr"
   ]
  },
  {
   "cell_type": "code",
   "execution_count": 140,
   "id": "a69db51e",
   "metadata": {},
   "outputs": [
    {
     "data": {
      "text/plain": [
       "array([[1, 0, 0, 0],\n",
       "       [0, 4, 0, 0],\n",
       "       [0, 0, 5, 0],\n",
       "       [0, 0, 0, 7]])"
      ]
     },
     "execution_count": 140,
     "metadata": {},
     "output_type": "execute_result"
    }
   ],
   "source": [
    "arr = np.diag([1,4,5,7]) # it take the list in parmeter , unmber of parmeter is the number of row and it bribg the in diagonal\n",
    "arr"
   ]
  },
  {
   "cell_type": "code",
   "execution_count": 141,
   "id": "9756a1fe",
   "metadata": {},
   "outputs": [
    {
     "data": {
      "text/plain": [
       "array([8, 4, 7])"
      ]
     },
     "execution_count": 141,
     "metadata": {},
     "output_type": "execute_result"
    }
   ],
   "source": [
    "rand_arr = np.random.randint(1,11,3) # it take the three parmeter first one is the start and it include second parmeter is end \n",
    "#but it is not include and three one is cout of randow numbers you whant in array\n",
    "rand_arr"
   ]
  },
  {
   "cell_type": "code",
   "execution_count": 142,
   "id": "a5b23a9f",
   "metadata": {},
   "outputs": [
    {
     "data": {
      "text/plain": [
       "array([0.67365999, 0.39147935, 0.70210437, 0.96569764])"
      ]
     },
     "execution_count": 142,
     "metadata": {},
     "output_type": "execute_result"
    }
   ],
   "source": [
    "rand_arr = np.random.rand(4)\n",
    "# It take's a argument or parmeter and it give us random number between the 0 and 1.\n",
    "rand_arr"
   ]
  },
  {
   "cell_type": "code",
   "execution_count": 143,
   "id": "9fdd3fe3",
   "metadata": {},
   "outputs": [
    {
     "data": {
      "text/plain": [
       "array([[0.09050988, 0.05812514, 0.58801742],\n",
       "       [0.75117376, 0.51131739, 0.92050119]])"
      ]
     },
     "execution_count": 143,
     "metadata": {},
     "output_type": "execute_result"
    }
   ],
   "source": [
    "rand_arr = np.random.rand(2,3)\n",
    "rand_arr"
   ]
  },
  {
   "cell_type": "code",
   "execution_count": 144,
   "id": "ecc4d850",
   "metadata": {},
   "outputs": [
    {
     "data": {
      "text/plain": [
       "array([[-0.06900945, -1.93337331, -0.59246606, -0.94429363],\n",
       "       [ 1.30199442, -1.13053572,  1.65625513,  1.09856504],\n",
       "       [ 0.23694457,  1.64714958, -0.00965841, -0.99243166]])"
      ]
     },
     "execution_count": 144,
     "metadata": {},
     "output_type": "execute_result"
    }
   ],
   "source": [
    "r_arr = np.random.randn(3,4)\n",
    "# it give the random number which center to the 0 the mean's it bring the neg- the pos+ number near by 0.\n",
    "r_arr"
   ]
  },
  {
   "cell_type": "code",
   "execution_count": 145,
   "id": "0b50c8e8",
   "metadata": {},
   "outputs": [
    {
     "data": {
      "text/plain": [
       "0.02242837400171388"
      ]
     },
     "execution_count": 145,
     "metadata": {},
     "output_type": "execute_result"
    }
   ],
   "source": [
    "np.mean(r_arr) # it give us the mean value of array or list"
   ]
  },
  {
   "cell_type": "markdown",
   "id": "3b0525ad",
   "metadata": {},
   "source": [
    "### Reshaping data"
   ]
  },
  {
   "cell_type": "code",
   "execution_count": 146,
   "id": "4c41c679",
   "metadata": {},
   "outputs": [
    {
     "data": {
      "text/plain": [
       "array([[99,  8, 38, 15,  1],\n",
       "       [97,  3, 38, 48, 63],\n",
       "       [62, 15, 62, 82, 38],\n",
       "       [95, 20, 59,  7, 91]])"
      ]
     },
     "execution_count": 146,
     "metadata": {},
     "output_type": "execute_result"
    }
   ],
   "source": [
    "arr = np.random.randint(1,100,20)\n",
    "arr = arr.reshape(4,5) # this funtion take two argument's and multiplcation of argument is equal to the no. of element in arr <row,col> \n",
    "arr\n",
    "# It bring the random value in between the 1 to 100"
   ]
  },
  {
   "cell_type": "code",
   "execution_count": 147,
   "id": "e4365e1b",
   "metadata": {},
   "outputs": [
    {
     "data": {
      "text/plain": [
       "2"
      ]
     },
     "execution_count": 147,
     "metadata": {},
     "output_type": "execute_result"
    }
   ],
   "source": [
    "arr.ndim # It's tell the array are 2D ,3D .... or what"
   ]
  },
  {
   "cell_type": "code",
   "execution_count": 148,
   "id": "0ab540f7",
   "metadata": {},
   "outputs": [
    {
     "data": {
      "text/plain": [
       "(4, 5)"
      ]
     },
     "execution_count": 148,
     "metadata": {},
     "output_type": "execute_result"
    }
   ],
   "source": [
    "arr.shape #it give us no. of element or dimension of array "
   ]
  },
  {
   "cell_type": "code",
   "execution_count": 149,
   "id": "a26e3c9a",
   "metadata": {},
   "outputs": [
    {
     "data": {
      "text/plain": [
       "array([[[99,  8, 38, 15,  1],\n",
       "        [97,  3, 38, 48, 63]],\n",
       "\n",
       "       [[62, 15, 62, 82, 38],\n",
       "        [95, 20, 59,  7, 91]]])"
      ]
     },
     "execution_count": 149,
     "metadata": {},
     "output_type": "execute_result"
    }
   ],
   "source": [
    "# reshaping in 3d array\n",
    "arr = arr.reshape(2,2,5)\n",
    "arr"
   ]
  },
  {
   "cell_type": "code",
   "execution_count": 150,
   "id": "91b3a024",
   "metadata": {},
   "outputs": [
    {
     "data": {
      "text/plain": [
       "array([  1,   2,   3,   4,   5,   6,   7,   8,   9,  10,  11,  12,  13,\n",
       "        14,  15,  16,  17,  18,  19,  20,  21,  22,  23,  24,  25,  26,\n",
       "        27,  28,  29,  30,  31,  32,  33,  34,  35,  36,  37,  38,  39,\n",
       "        40,  41,  42,  43,  44,  45,  46,  47,  48,  49,  50,  51,  52,\n",
       "        53,  54,  55,  56,  57,  58,  59,  60,  61,  62,  63,  64,  65,\n",
       "        66,  67,  68,  69,  70,  71,  72,  73,  74,  75,  76,  77,  78,\n",
       "        79,  80,  81,  82,  83,  84,  85,  86,  87,  88,  89,  90,  91,\n",
       "        92,  93,  94,  95,  96,  97,  98,  99, 100, 101, 102, 103, 104,\n",
       "       105, 106, 107, 108, 109, 110])"
      ]
     },
     "execution_count": 150,
     "metadata": {},
     "output_type": "execute_result"
    }
   ],
   "source": [
    "# use of -1 in array\n",
    "a = np.arange(1,111)\n",
    "a"
   ]
  },
  {
   "cell_type": "code",
   "execution_count": 151,
   "id": "1b51ad9c",
   "metadata": {},
   "outputs": [
    {
     "data": {
      "text/plain": [
       "array([[  1,   2,   3,   4,   5,   6,   7,   8,   9,  10,  11,  12,  13,\n",
       "         14,  15,  16,  17,  18,  19,  20,  21,  22],\n",
       "       [ 23,  24,  25,  26,  27,  28,  29,  30,  31,  32,  33,  34,  35,\n",
       "         36,  37,  38,  39,  40,  41,  42,  43,  44],\n",
       "       [ 45,  46,  47,  48,  49,  50,  51,  52,  53,  54,  55,  56,  57,\n",
       "         58,  59,  60,  61,  62,  63,  64,  65,  66],\n",
       "       [ 67,  68,  69,  70,  71,  72,  73,  74,  75,  76,  77,  78,  79,\n",
       "         80,  81,  82,  83,  84,  85,  86,  87,  88],\n",
       "       [ 89,  90,  91,  92,  93,  94,  95,  96,  97,  98,  99, 100, 101,\n",
       "        102, 103, 104, 105, 106, 107, 108, 109, 110]])"
      ]
     },
     "execution_count": 151,
     "metadata": {},
     "output_type": "execute_result"
    }
   ],
   "source": [
    "a = a.reshape(5,-1)\n",
    "a"
   ]
  },
  {
   "cell_type": "code",
   "execution_count": 152,
   "id": "462552ee",
   "metadata": {},
   "outputs": [
    {
     "data": {
      "text/plain": [
       "(5, 22)"
      ]
     },
     "execution_count": 152,
     "metadata": {},
     "output_type": "execute_result"
    }
   ],
   "source": [
    "a.shape"
   ]
  },
  {
   "cell_type": "code",
   "execution_count": 153,
   "id": "0242125a",
   "metadata": {},
   "outputs": [
    {
     "data": {
      "text/plain": [
       "2"
      ]
     },
     "execution_count": 153,
     "metadata": {},
     "output_type": "execute_result"
    }
   ],
   "source": [
    "a.ndim"
   ]
  },
  {
   "cell_type": "code",
   "execution_count": 154,
   "id": "64cecdcc",
   "metadata": {},
   "outputs": [
    {
     "data": {
      "text/plain": [
       "array([46,  3, 29, 35, 39, 18, 20, 43, 23, 34])"
      ]
     },
     "execution_count": 154,
     "metadata": {},
     "output_type": "execute_result"
    }
   ],
   "source": [
    "# same random no. in every time using the ##seed funtion\n",
    "np.random.seed(123)\n",
    "arr = np.random.randint(1,50,10)\n",
    "arr"
   ]
  },
  {
   "cell_type": "markdown",
   "id": "98304692",
   "metadata": {},
   "source": [
    "### Indexcing and slicing of array's"
   ]
  },
  {
   "cell_type": "code",
   "execution_count": 155,
   "id": "8878805f",
   "metadata": {},
   "outputs": [
    {
     "data": {
      "text/plain": [
       "array([33, 48, 10, 33, 47, 33, 48, 26, 20, 15])"
      ]
     },
     "execution_count": 155,
     "metadata": {},
     "output_type": "execute_result"
    }
   ],
   "source": [
    "arr = np.random.randint(1,50,10)\n",
    "arr"
   ]
  },
  {
   "cell_type": "code",
   "execution_count": 156,
   "id": "d6847b33",
   "metadata": {},
   "outputs": [
    {
     "data": {
      "text/plain": [
       "array([48, 47, 26])"
      ]
     },
     "execution_count": 156,
     "metadata": {},
     "output_type": "execute_result"
    }
   ],
   "source": [
    "arr[1:9:3] "
   ]
  },
  {
   "cell_type": "code",
   "execution_count": 157,
   "id": "8cb316a7",
   "metadata": {},
   "outputs": [
    {
     "data": {
      "text/plain": [
       "array([[33, 48, 10, 33, 47],\n",
       "       [33, 48, 26, 20, 15]])"
      ]
     },
     "execution_count": 157,
     "metadata": {},
     "output_type": "execute_result"
    }
   ],
   "source": [
    "arr = arr.reshape(2,5)\n",
    "arr"
   ]
  },
  {
   "cell_type": "code",
   "execution_count": 158,
   "id": "d4730ea9",
   "metadata": {},
   "outputs": [
    {
     "data": {
      "text/plain": [
       "10"
      ]
     },
     "execution_count": 158,
     "metadata": {},
     "output_type": "execute_result"
    }
   ],
   "source": [
    "# we are take the element for the above array that is 25 and 24 by using the slicing \n",
    "arr[0][2]"
   ]
  },
  {
   "cell_type": "code",
   "execution_count": 159,
   "id": "67d0b5f7",
   "metadata": {},
   "outputs": [
    {
     "data": {
      "text/plain": [
       "20"
      ]
     },
     "execution_count": 159,
     "metadata": {},
     "output_type": "execute_result"
    }
   ],
   "source": [
    "arr[1][-2]"
   ]
  },
  {
   "cell_type": "code",
   "execution_count": 160,
   "id": "35cd4a7c",
   "metadata": {},
   "outputs": [
    {
     "data": {
      "text/plain": [
       "20"
      ]
     },
     "execution_count": 160,
     "metadata": {},
     "output_type": "execute_result"
    }
   ],
   "source": [
    "arr[1,3] # by using the single bracket"
   ]
  },
  {
   "cell_type": "code",
   "execution_count": 161,
   "id": "97ef3935",
   "metadata": {},
   "outputs": [
    {
     "data": {
      "text/plain": [
       "array([[ 1,  2,  3,  4,  5,  6,  7,  8,  9, 10],\n",
       "       [11, 12, 13, 14, 15, 16, 17, 18, 19, 20],\n",
       "       [21, 22, 23, 24, 25, 26, 27, 28, 29, 30],\n",
       "       [31, 32, 33, 34, 35, 36, 37, 38, 39, 40],\n",
       "       [41, 42, 43, 44, 45, 46, 47, 48, 49, 50]])"
      ]
     },
     "execution_count": 161,
     "metadata": {},
     "output_type": "execute_result"
    }
   ],
   "source": [
    "arr = np.arange(1,51)\n",
    "arr = arr.reshape(5,10)\n",
    "arr"
   ]
  },
  {
   "cell_type": "code",
   "execution_count": 162,
   "id": "7cd69a75",
   "metadata": {},
   "outputs": [
    {
     "data": {
      "text/plain": [
       "array([[ 1,  2],\n",
       "       [11, 12]])"
      ]
     },
     "execution_count": 162,
     "metadata": {},
     "output_type": "execute_result"
    }
   ],
   "source": [
    "# In the above array we need the only suarray that is \n",
    "# [1,2,3]\n",
    "#[11,12,13]\n",
    "arr[:2,:2]"
   ]
  },
  {
   "cell_type": "code",
   "execution_count": 163,
   "id": "91807849",
   "metadata": {},
   "outputs": [
    {
     "data": {
      "text/plain": [
       "array([[ 3,  4,  5,  6],\n",
       "       [13, 14, 15, 16],\n",
       "       [23, 24, 25, 26]])"
      ]
     },
     "execution_count": 163,
     "metadata": {},
     "output_type": "execute_result"
    }
   ],
   "source": [
    "arr[:3,2:6]"
   ]
  },
  {
   "cell_type": "markdown",
   "id": "f8379406",
   "metadata": {},
   "source": [
    "### Conditional Selection"
   ]
  },
  {
   "cell_type": "code",
   "execution_count": 164,
   "id": "f6e179e1",
   "metadata": {},
   "outputs": [
    {
     "data": {
      "text/plain": [
       "array([[37, 97, 81, 69, 50],\n",
       "       [56, 68,  3, 85, 40],\n",
       "       [67, 85, 48, 62, 49],\n",
       "       [ 8, 93, 53, 98, 86]])"
      ]
     },
     "execution_count": 164,
     "metadata": {},
     "output_type": "execute_result"
    }
   ],
   "source": [
    "a = np.random.randint(1,100,20)\n",
    "a = a.reshape(4,5)\n",
    "a"
   ]
  },
  {
   "cell_type": "code",
   "execution_count": 165,
   "id": "a3a14155",
   "metadata": {},
   "outputs": [
    {
     "data": {
      "text/plain": [
       "array([37,  3, 40, 48, 49,  8])"
      ]
     },
     "execution_count": 165,
     "metadata": {},
     "output_type": "execute_result"
    }
   ],
   "source": [
    "# appling the condition \n",
    "chan = a<50\n",
    "a[chan]"
   ]
  },
  {
   "cell_type": "code",
   "execution_count": 166,
   "id": "fa059798",
   "metadata": {},
   "outputs": [
    {
     "data": {
      "text/plain": [
       "array([50, 56, 68, 40, 48, 62,  8, 98, 86])"
      ]
     },
     "execution_count": 166,
     "metadata": {},
     "output_type": "execute_result"
    }
   ],
   "source": [
    "# even number in array\n",
    "a[a%2 == 0]"
   ]
  },
  {
   "cell_type": "markdown",
   "id": "8b394318",
   "metadata": {},
   "source": [
    "### Arthmatical opration perform in tow array's "
   ]
  },
  {
   "cell_type": "code",
   "execution_count": 167,
   "id": "673e7bea",
   "metadata": {},
   "outputs": [],
   "source": [
    "a = np.array([12,3,4,5,6])\n",
    "b = np.array([2,4,6,78,9])"
   ]
  },
  {
   "cell_type": "code",
   "execution_count": 168,
   "id": "c01ffef9",
   "metadata": {},
   "outputs": [
    {
     "data": {
      "text/plain": [
       "array([ 24,  12,  24, 390,  54])"
      ]
     },
     "execution_count": 168,
     "metadata": {},
     "output_type": "execute_result"
    }
   ],
   "source": [
    "a*b # a+b, a-b, a/b, a%b....."
   ]
  },
  {
   "cell_type": "code",
   "execution_count": 169,
   "id": "a866951b",
   "metadata": {},
   "outputs": [
    {
     "data": {
      "text/plain": [
       "array([[95, 28, 35],\n",
       "       [98, 77, 41],\n",
       "       [ 4, 70, 65]])"
      ]
     },
     "execution_count": 169,
     "metadata": {},
     "output_type": "execute_result"
    }
   ],
   "source": [
    "arr = np.random.randint(1,100,9).reshape(3,3)\n",
    "arr1 = np.random.randint(1,55,9).reshape(3,3)\n",
    "arr"
   ]
  },
  {
   "cell_type": "code",
   "execution_count": 170,
   "id": "889efbcc",
   "metadata": {},
   "outputs": [
    {
     "data": {
      "text/plain": [
       "array([[12, 35, 11],\n",
       "       [23, 14, 19],\n",
       "       [37, 16, 44]])"
      ]
     },
     "execution_count": 170,
     "metadata": {},
     "output_type": "execute_result"
    }
   ],
   "source": [
    "arr1"
   ]
  },
  {
   "cell_type": "code",
   "execution_count": 171,
   "id": "1226021f",
   "metadata": {},
   "outputs": [
    {
     "data": {
      "text/plain": [
       "array([[107,  63,  46],\n",
       "       [121,  91,  60],\n",
       "       [ 41,  86, 109]])"
      ]
     },
     "execution_count": 171,
     "metadata": {},
     "output_type": "execute_result"
    }
   ],
   "source": [
    "arr+arr1 # also we perform the various operations"
   ]
  },
  {
   "cell_type": "code",
   "execution_count": 172,
   "id": "c74df80e",
   "metadata": {},
   "outputs": [
    {
     "data": {
      "text/plain": [
       "array([[3079, 4277, 3117],\n",
       "       [4464, 5164, 4345],\n",
       "       [4063, 2160, 4234]])"
      ]
     },
     "execution_count": 172,
     "metadata": {},
     "output_type": "execute_result"
    }
   ],
   "source": [
    "# matrix multiplicaltion \n",
    "arr.dot(arr1)"
   ]
  },
  {
   "cell_type": "code",
   "execution_count": 173,
   "id": "c7fa0bb9",
   "metadata": {},
   "outputs": [],
   "source": [
    "arr1 = np.array([3,7,4,9]).reshape(2,2)\n",
    "arr2 = np.array([6,2,5,8]).reshape(2,2)"
   ]
  },
  {
   "cell_type": "code",
   "execution_count": 174,
   "id": "eadb3625",
   "metadata": {},
   "outputs": [
    {
     "data": {
      "text/plain": [
       "array([[53, 62],\n",
       "       [69, 80]])"
      ]
     },
     "execution_count": 174,
     "metadata": {},
     "output_type": "execute_result"
    }
   ],
   "source": [
    "arr1.dot(arr2)"
   ]
  },
  {
   "cell_type": "markdown",
   "id": "c52831ba",
   "metadata": {},
   "source": [
    "### Usefull funtion in numpy"
   ]
  },
  {
   "cell_type": "code",
   "execution_count": 175,
   "id": "461f496a",
   "metadata": {},
   "outputs": [
    {
     "data": {
      "text/plain": [
       "array([[13,  7, 14, 20],\n",
       "       [17,  7, 15,  8],\n",
       "       [12,  8,  2, 12],\n",
       "       [ 6, 19, 18, 13],\n",
       "       [19, 18,  2, 20]])"
      ]
     },
     "execution_count": 175,
     "metadata": {},
     "output_type": "execute_result"
    }
   ],
   "source": [
    "# that is min(),max(),argmin(),argmax(), sin(),cos(),sqrt(),linspace(),exp()\n",
    "arr = np.random.randint(1,21,20).reshape(5,4)\n",
    "arr"
   ]
  },
  {
   "cell_type": "code",
   "execution_count": 176,
   "id": "f978f906",
   "metadata": {},
   "outputs": [
    {
     "data": {
      "text/plain": [
       "20"
      ]
     },
     "execution_count": 176,
     "metadata": {},
     "output_type": "execute_result"
    }
   ],
   "source": [
    "arr.max() # np.max(arr)"
   ]
  },
  {
   "cell_type": "code",
   "execution_count": 177,
   "id": "c5a978b9",
   "metadata": {},
   "outputs": [
    {
     "data": {
      "text/plain": [
       "2"
      ]
     },
     "execution_count": 177,
     "metadata": {},
     "output_type": "execute_result"
    }
   ],
   "source": [
    "arr.min() "
   ]
  },
  {
   "cell_type": "code",
   "execution_count": 178,
   "id": "1b70482c",
   "metadata": {},
   "outputs": [
    {
     "data": {
      "text/plain": [
       "20"
      ]
     },
     "execution_count": 178,
     "metadata": {},
     "output_type": "execute_result"
    }
   ],
   "source": [
    "# it's also call this way\n",
    "np.max(arr) # arr.max()"
   ]
  },
  {
   "cell_type": "code",
   "execution_count": 179,
   "id": "cae1326b",
   "metadata": {},
   "outputs": [
    {
     "data": {
      "text/plain": [
       "3"
      ]
     },
     "execution_count": 179,
     "metadata": {},
     "output_type": "execute_result"
    }
   ],
   "source": [
    "# for number of max or min value index\n",
    "arr.argmax()"
   ]
  },
  {
   "cell_type": "code",
   "execution_count": 180,
   "id": "d2306a8b",
   "metadata": {},
   "outputs": [
    {
     "data": {
      "text/plain": [
       "array([[3.60555128, 2.64575131, 3.74165739, 4.47213595],\n",
       "       [4.12310563, 2.64575131, 3.87298335, 2.82842712],\n",
       "       [3.46410162, 2.82842712, 1.41421356, 3.46410162],\n",
       "       [2.44948974, 4.35889894, 4.24264069, 3.60555128],\n",
       "       [4.35889894, 4.24264069, 1.41421356, 4.47213595]])"
      ]
     },
     "execution_count": 180,
     "metadata": {},
     "output_type": "execute_result"
    }
   ],
   "source": [
    "# funtion for square root\n",
    "np.sqrt(arr)"
   ]
  },
  {
   "cell_type": "code",
   "execution_count": 181,
   "id": "12eb8c28",
   "metadata": {},
   "outputs": [
    {
     "data": {
      "text/plain": [
       "array([[ 0.42016704,  0.6569866 ,  0.99060736,  0.91294525],\n",
       "       [-0.96139749,  0.6569866 ,  0.65028784,  0.98935825],\n",
       "       [-0.53657292,  0.98935825,  0.90929743, -0.53657292],\n",
       "       [-0.2794155 ,  0.14987721, -0.75098725,  0.42016704],\n",
       "       [ 0.14987721, -0.75098725,  0.90929743,  0.91294525]])"
      ]
     },
     "execution_count": 181,
     "metadata": {},
     "output_type": "execute_result"
    }
   ],
   "source": [
    "np.sin(arr)\n",
    "# it's bring us sin value of the no. same as cos()"
   ]
  },
  {
   "cell_type": "code",
   "execution_count": 182,
   "id": "4b9c7d35",
   "metadata": {},
   "outputs": [
    {
     "data": {
      "text/plain": [
       "array([[ 0.90744678,  0.75390225,  0.13673722,  0.40808206],\n",
       "       [-0.27516334,  0.75390225, -0.75968791, -0.14550003],\n",
       "       [ 0.84385396, -0.14550003, -0.41614684,  0.84385396],\n",
       "       [ 0.96017029,  0.98870462,  0.66031671,  0.90744678],\n",
       "       [ 0.98870462,  0.66031671, -0.41614684,  0.40808206]])"
      ]
     },
     "execution_count": 182,
     "metadata": {},
     "output_type": "execute_result"
    }
   ],
   "source": [
    " np.cos(arr)"
   ]
  },
  {
   "cell_type": "code",
   "execution_count": 183,
   "id": "c4f1a87e",
   "metadata": {},
   "outputs": [
    {
     "data": {
      "text/plain": [
       "array([ 1.        ,  6.44444444, 11.88888889, 17.33333333, 22.77777778,\n",
       "       28.22222222, 33.66666667, 39.11111111, 44.55555556, 50.        ])"
      ]
     },
     "execution_count": 183,
     "metadata": {},
     "output_type": "execute_result"
    }
   ],
   "source": [
    "np.linspace(1,50,10)"
   ]
  },
  {
   "cell_type": "code",
   "execution_count": 184,
   "id": "63d7d21a",
   "metadata": {},
   "outputs": [
    {
     "data": {
      "text/plain": [
       "array([ True, False, False, False, False,  True,  True, False,  True,\n",
       "       False,  True])"
      ]
     },
     "execution_count": 184,
     "metadata": {},
     "output_type": "execute_result"
    }
   ],
   "source": [
    "# Boolen array \n",
    "bo = np.array([1,0,0,0,0,1,1,0,1,0,1],dtype='bool')\n",
    "bo"
   ]
  },
  {
   "cell_type": "markdown",
   "id": "fe82badf",
   "metadata": {},
   "source": [
    "### Numpy Axis"
   ]
  },
  {
   "cell_type": "code",
   "execution_count": 185,
   "id": "0980d36e",
   "metadata": {},
   "outputs": [
    {
     "data": {
      "text/plain": [
       "array([[45, 49, 57, 92, 50],\n",
       "       [87,  4, 68, 12, 22],\n",
       "       [90, 99,  4, 12,  4],\n",
       "       [95,  7, 10, 88, 15]])"
      ]
     },
     "execution_count": 185,
     "metadata": {},
     "output_type": "execute_result"
    }
   ],
   "source": [
    "matrix = np.random.randint(1,100,20).reshape(4,5)\n",
    "matrix"
   ]
  },
  {
   "cell_type": "code",
   "execution_count": 186,
   "id": "524b296f",
   "metadata": {},
   "outputs": [
    {
     "data": {
      "text/plain": [
       "array([45,  4,  4,  7])"
      ]
     },
     "execution_count": 186,
     "metadata": {},
     "output_type": "execute_result"
    }
   ],
   "source": [
    "# let's find the minimum number of row\n",
    "np.min(matrix, axis=1)"
   ]
  },
  {
   "cell_type": "code",
   "execution_count": 187,
   "id": "382b73d7",
   "metadata": {},
   "outputs": [
    {
     "data": {
      "text/plain": [
       "array([95, 99, 68, 92, 50])"
      ]
     },
     "execution_count": 187,
     "metadata": {},
     "output_type": "execute_result"
    }
   ],
   "source": [
    "# let's find thee maximum number of col..\n",
    "matrix.max(axis=0)"
   ]
  },
  {
   "cell_type": "code",
   "execution_count": 188,
   "id": "4b31e34b",
   "metadata": {},
   "outputs": [
    {
     "data": {
      "text/plain": [
       "array([ 45,  94, 151, 243, 293, 380, 384, 452, 464, 486, 576, 675, 679,\n",
       "       691, 695, 790, 797, 807, 895, 910])"
      ]
     },
     "execution_count": 188,
     "metadata": {},
     "output_type": "execute_result"
    }
   ],
   "source": [
    "# let's find the sum of first two digit \n",
    "np.cumsum(matrix)"
   ]
  },
  {
   "cell_type": "markdown",
   "id": "13256362",
   "metadata": {},
   "source": [
    "### Shuffle and unique"
   ]
  },
  {
   "cell_type": "code",
   "execution_count": 189,
   "id": "1f324652",
   "metadata": {},
   "outputs": [
    {
     "data": {
      "text/plain": [
       "array([[95,  7, 10, 88, 15],\n",
       "       [45, 49, 57, 92, 50],\n",
       "       [87,  4, 68, 12, 22],\n",
       "       [90, 99,  4, 12,  4]])"
      ]
     },
     "execution_count": 189,
     "metadata": {},
     "output_type": "execute_result"
    }
   ],
   "source": [
    "# shuffle funtion in array numpy it shuffle the element of array\n",
    "np.random.shuffle(matrix)\n",
    "matrix"
   ]
  },
  {
   "cell_type": "code",
   "execution_count": 190,
   "id": "4720be42",
   "metadata": {},
   "outputs": [
    {
     "data": {
      "text/plain": [
       "(array([ 4,  7, 10, 12, 15, 22, 45, 49, 50, 57, 68, 87, 88, 90, 92, 95, 99]),\n",
       " array([11,  1,  2, 13,  4, 14,  5,  6,  9,  7, 12, 10,  3, 15,  8,  0, 16],\n",
       "       dtype=int64),\n",
       " array([3, 1, 1, 2, 1, 1, 1, 1, 1, 1, 1, 1, 1, 1, 1, 1, 1], dtype=int64))"
      ]
     },
     "execution_count": 190,
     "metadata": {},
     "output_type": "execute_result"
    }
   ],
   "source": [
    "# If we need the uniqe element of array then we use the unique() \n",
    "np.unique(matrix, return_index = True, return_counts = True)"
   ]
  },
  {
   "cell_type": "code",
   "execution_count": 191,
   "id": "14b7aa6c",
   "metadata": {},
   "outputs": [
    {
     "data": {
      "text/plain": [
       "17"
      ]
     },
     "execution_count": 191,
     "metadata": {},
     "output_type": "execute_result"
    }
   ],
   "source": [
    "np.unique(matrix).size"
   ]
  },
  {
   "cell_type": "code",
   "execution_count": 192,
   "id": "c8f94107",
   "metadata": {},
   "outputs": [],
   "source": [
    "# horizontal stacking and vertical stacking\n",
    "arr1 = np.random.randint(1,50,9).reshape(3,3)\n",
    "arr2 = np.random.randint(20,50,9).reshape(3,3)"
   ]
  },
  {
   "cell_type": "code",
   "execution_count": 193,
   "id": "e63cb4ba",
   "metadata": {},
   "outputs": [
    {
     "data": {
      "text/plain": [
       "array([[13, 28, 39],\n",
       "       [18, 47, 11],\n",
       "       [36, 36,  2]])"
      ]
     },
     "execution_count": 193,
     "metadata": {},
     "output_type": "execute_result"
    }
   ],
   "source": [
    "arr1"
   ]
  },
  {
   "cell_type": "code",
   "execution_count": 194,
   "id": "352112af",
   "metadata": {},
   "outputs": [
    {
     "data": {
      "text/plain": [
       "array([[35, 33, 36],\n",
       "       [25, 28, 33],\n",
       "       [42, 34, 35]])"
      ]
     },
     "execution_count": 194,
     "metadata": {},
     "output_type": "execute_result"
    }
   ],
   "source": [
    "arr2"
   ]
  },
  {
   "cell_type": "markdown",
   "id": "936c4764",
   "metadata": {},
   "source": [
    "### horizontal and vertical stacking"
   ]
  },
  {
   "cell_type": "code",
   "execution_count": 195,
   "id": "ccb005a6",
   "metadata": {},
   "outputs": [
    {
     "data": {
      "text/plain": [
       "array([[13, 28, 39, 35, 33, 36],\n",
       "       [18, 47, 11, 25, 28, 33],\n",
       "       [36, 36,  2, 42, 34, 35]])"
      ]
     },
     "execution_count": 195,
     "metadata": {},
     "output_type": "execute_result"
    }
   ],
   "source": [
    "np.hstack((arr1, arr2)) # horizontal stackin"
   ]
  },
  {
   "cell_type": "code",
   "execution_count": 196,
   "id": "f07d1f37",
   "metadata": {},
   "outputs": [
    {
     "data": {
      "text/plain": [
       "array([[13, 28, 39],\n",
       "       [18, 47, 11],\n",
       "       [36, 36,  2],\n",
       "       [35, 33, 36],\n",
       "       [25, 28, 33],\n",
       "       [42, 34, 35]])"
      ]
     },
     "execution_count": 196,
     "metadata": {},
     "output_type": "execute_result"
    }
   ],
   "source": [
    "# Vertical stacking\n",
    "np.vstack((arr1,arr2))"
   ]
  },
  {
   "cell_type": "code",
   "execution_count": 197,
   "id": "f28e6aff",
   "metadata": {},
   "outputs": [
    {
     "data": {
      "text/plain": [
       "array([1, 2, 3, 4, 5])"
      ]
     },
     "execution_count": 197,
     "metadata": {},
     "output_type": "execute_result"
    }
   ],
   "source": [
    "a = np.arange(1,6)\n",
    "a"
   ]
  },
  {
   "cell_type": "code",
   "execution_count": 198,
   "id": "e6d66df1",
   "metadata": {},
   "outputs": [],
   "source": [
    "b = np.array([20])"
   ]
  },
  {
   "cell_type": "code",
   "execution_count": 199,
   "id": "0f2e9c38",
   "metadata": {},
   "outputs": [
    {
     "data": {
      "text/plain": [
       "array([ 1,  2,  3,  4,  5, 20, 40])"
      ]
     },
     "execution_count": 199,
     "metadata": {},
     "output_type": "execute_result"
    }
   ],
   "source": [
    "np.append(a,np.array([20,40]))"
   ]
  }
 ],
 "metadata": {
  "kernelspec": {
   "display_name": "Python 3 (ipykernel)",
   "language": "python",
   "name": "python3"
  },
  "language_info": {
   "codemirror_mode": {
    "name": "ipython",
    "version": 3
   },
   "file_extension": ".py",
   "mimetype": "text/x-python",
   "name": "python",
   "nbconvert_exporter": "python",
   "pygments_lexer": "ipython3",
   "version": "3.11.5"
  }
 },
 "nbformat": 4,
 "nbformat_minor": 5
}
